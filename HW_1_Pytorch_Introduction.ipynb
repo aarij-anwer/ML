{
  "nbformat": 4,
  "nbformat_minor": 0,
  "metadata": {
    "colab": {
      "provenance": [],
      "gpuType": "T4",
      "authorship_tag": "ABX9TyPAN0w48FqJvFjoJlFDMgcL",
      "include_colab_link": true
    },
    "kernelspec": {
      "name": "python3",
      "display_name": "Python 3"
    },
    "language_info": {
      "name": "python"
    },
    "accelerator": "GPU"
  },
  "cells": [
    {
      "cell_type": "markdown",
      "metadata": {
        "id": "view-in-github",
        "colab_type": "text"
      },
      "source": [
        "<a href=\"https://colab.research.google.com/github/aarij-anwer/ML/blob/main/HW_1_Pytorch_Introduction.ipynb\" target=\"_parent\"><img src=\"https://colab.research.google.com/assets/colab-badge.svg\" alt=\"Open In Colab\"/></a>"
      ]
    },
    {
      "cell_type": "markdown",
      "source": [
        "# Pytorch Introduction"
      ],
      "metadata": {
        "id": "2fFY1HSGT-TV"
      }
    },
    {
      "cell_type": "code",
      "source": [
        "import torch\n",
        "torch.__version__"
      ],
      "metadata": {
        "colab": {
          "base_uri": "https://localhost:8080/",
          "height": 35
        },
        "id": "6gVVnbf3YKBi",
        "outputId": "b1ed5393-ada6-447c-b613-bf7e0bd4f90d"
      },
      "execution_count": 13,
      "outputs": [
        {
          "output_type": "execute_result",
          "data": {
            "text/plain": [
              "'2.3.0+cu121'"
            ],
            "application/vnd.google.colaboratory.intrinsic+json": {
              "type": "string"
            }
          },
          "metadata": {},
          "execution_count": 13
        }
      ]
    },
    {
      "cell_type": "markdown",
      "source": [
        "## Question 1\n",
        "\n",
        "Create a random tensor with shape (7, 7)."
      ],
      "metadata": {
        "id": "wqiSrKCGTske"
      }
    },
    {
      "cell_type": "code",
      "source": [
        "x = torch.rand(7,7)\n",
        "# to have the values between [0-10] instead of between [0-1]\n",
        "x = x*10\n",
        "x = torch.round(x).int()\n",
        "print('X', x)"
      ],
      "metadata": {
        "colab": {
          "base_uri": "https://localhost:8080/"
        },
        "id": "pRpxyfdxURRx",
        "outputId": "ad244fe9-3d17-4409-d136-c7ae5bcbf9c1"
      },
      "execution_count": 14,
      "outputs": [
        {
          "output_type": "stream",
          "name": "stdout",
          "text": [
            "X tensor([[ 9,  6,  3, 10,  0,  9,  8],\n",
            "        [ 7,  5,  8,  8,  3, 10,  9],\n",
            "        [ 3,  7,  8,  4,  7,  2,  6],\n",
            "        [ 1,  8,  4,  7,  7, 10,  9],\n",
            "        [10,  2,  2,  7,  1,  2,  5],\n",
            "        [ 3, 10,  1,  3,  5,  6,  2],\n",
            "        [ 3,  5,  9,  0,  8,  2,  3]], dtype=torch.int32)\n"
          ]
        }
      ]
    },
    {
      "cell_type": "markdown",
      "source": [
        "## Question 2\n",
        "\n",
        "Perform a matrix multiplication on the tensor from 2 with another random tensor with shape (1, 7) (hint: you may have to transpose the second tensor)."
      ],
      "metadata": {
        "id": "fPRvi2ZgUJkP"
      }
    },
    {
      "cell_type": "code",
      "source": [
        "y = torch.rand(1, 7)\n",
        "y = y * 10\n",
        "y = torch.round(y).int()\n",
        "\n",
        "print('X', x)\n",
        "print('Y', y)\n",
        "result = torch.matmul(x, y.T)\n",
        "print('X * Y', result)"
      ],
      "metadata": {
        "colab": {
          "base_uri": "https://localhost:8080/"
        },
        "id": "c3IvFytTcMcR",
        "outputId": "79314be3-ce01-4e00-dddf-eb15efdb90d5"
      },
      "execution_count": 15,
      "outputs": [
        {
          "output_type": "stream",
          "name": "stdout",
          "text": [
            "X tensor([[ 9,  6,  3, 10,  0,  9,  8],\n",
            "        [ 7,  5,  8,  8,  3, 10,  9],\n",
            "        [ 3,  7,  8,  4,  7,  2,  6],\n",
            "        [ 1,  8,  4,  7,  7, 10,  9],\n",
            "        [10,  2,  2,  7,  1,  2,  5],\n",
            "        [ 3, 10,  1,  3,  5,  6,  2],\n",
            "        [ 3,  5,  9,  0,  8,  2,  3]], dtype=torch.int32)\n",
            "Y tensor([[3, 3, 2, 2, 7, 9, 2]], dtype=torch.int32)\n",
            "X * Y tensor([[168],\n",
            "        [197],\n",
            "        [133],\n",
            "        [206],\n",
            "        [ 89],\n",
            "        [140],\n",
            "        [122]], dtype=torch.int32)\n"
          ]
        }
      ]
    },
    {
      "cell_type": "markdown",
      "source": [
        "## Question 3\n",
        "\n",
        "Set the random seed to 0 and do exercises 2 & 3 over again."
      ],
      "metadata": {
        "id": "YFFgCDSdcM-1"
      }
    },
    {
      "cell_type": "code",
      "source": [
        "import random\n",
        "random.seed(0)\n",
        "\n",
        "torch.manual_seed(0)\n",
        "\n",
        "x = torch.rand(7,7)\n",
        "x = x*10\n",
        "x = torch.round(x).int()\n",
        "\n",
        "y = torch.rand(1, 7)\n",
        "y = y * 10\n",
        "y = torch.round(y).int()\n",
        "\n",
        "print('X', x)\n",
        "print('Y', y)\n",
        "result = torch.matmul(x, y.T)\n",
        "print('X * Y', result)"
      ],
      "metadata": {
        "colab": {
          "base_uri": "https://localhost:8080/"
        },
        "id": "aJ_K4jvUcNpt",
        "outputId": "e4a011c7-a810-4042-ad5c-04fa50f1d7a3"
      },
      "execution_count": 16,
      "outputs": [
        {
          "output_type": "stream",
          "name": "stdout",
          "text": [
            "X tensor([[ 5,  8,  1,  1,  3,  6,  5],\n",
            "        [ 9,  5,  6,  3,  4,  0,  2],\n",
            "        [ 3,  5,  7,  8,  2,  3,  7],\n",
            "        [ 9,  4,  9,  4,  6, 10,  0],\n",
            "        [ 2,  4,  3,  9,  2,  3,  2],\n",
            "        [ 0,  2,  9,  7,  7,  5,  2],\n",
            "        [ 6,  0,  1,  2,  8,  8,  3]], dtype=torch.int32)\n",
            "Y tensor([[ 5,  8, 10,  7,  6,  8,  2]], dtype=torch.int32)\n",
            "X * Y tensor([[182],\n",
            "        [194],\n",
            "        [231],\n",
            "        [311],\n",
            "        [175],\n",
            "        [241],\n",
            "        [172]], dtype=torch.int32)\n"
          ]
        }
      ]
    },
    {
      "cell_type": "markdown",
      "source": [
        "## Question 4\n",
        "\n",
        "Speaking of random seeds, we saw how to set it with torch.manual_seed() but is there a GPU equivalent? (hint: you'll need to look into the documentation for torch.cuda for this one). If there is, set the GPU random seed to 1234."
      ],
      "metadata": {
        "id": "V6NTbIpmh_0w"
      }
    },
    {
      "cell_type": "code",
      "source": [
        "torch.cuda.manual_seed(1234)"
      ],
      "metadata": {
        "id": "9rXWD0GCiCC4"
      },
      "execution_count": 17,
      "outputs": []
    },
    {
      "cell_type": "markdown",
      "source": [
        "## Question 5\n",
        "\n",
        "Create two random tensors of shape (2, 3) and send them both to the GPU (you'll need access to a GPU for this). Set torch.manual_seed(1234) when creating the tensors (this doesn't have to be the GPU random seed)."
      ],
      "metadata": {
        "id": "BYSfn-DomAcM"
      }
    },
    {
      "cell_type": "code",
      "source": [
        "if (torch.cuda.is_available()) :\n",
        "    torch.cuda.manual_seed(1234)\n",
        "    x = (torch.rand(2,3).cuda() * 10).round(decimals=0)\n",
        "    y = (torch.rand(2,3).cuda() * 10).round(decimals=0)\n",
        "    print(x)\n",
        "    print(y)\n",
        "else :\n",
        "    print('No GPU available')\n"
      ],
      "metadata": {
        "colab": {
          "base_uri": "https://localhost:8080/"
        },
        "id": "KdY6a-RfmI6v",
        "outputId": "3d9b3600-dc74-4217-b32c-ba9518046d7e"
      },
      "execution_count": 18,
      "outputs": [
        {
          "output_type": "stream",
          "name": "stdout",
          "text": [
            "tensor([[6., 1., 2.],\n",
            "        [2., 7., 7.]], device='cuda:0')\n",
            "tensor([[2., 7., 8.],\n",
            "        [4., 5., 6.]], device='cuda:0')\n"
          ]
        }
      ]
    },
    {
      "cell_type": "markdown",
      "source": [
        "# Question 6\n",
        "\n",
        "Perform a matrix multiplication on the tensors you created in 6 (again, you may have to adjust the shapes of one of the tensors).\n"
      ],
      "metadata": {
        "id": "T8eXg-eQkBQB"
      }
    },
    {
      "cell_type": "code",
      "source": [
        "result = torch.matmul(x, y.T)\n",
        "print('X * Y', result)"
      ],
      "metadata": {
        "colab": {
          "base_uri": "https://localhost:8080/"
        },
        "id": "xXQ80A-GpRvx",
        "outputId": "77a0a44c-38ca-47ce-e46c-518cb479ea58"
      },
      "execution_count": 19,
      "outputs": [
        {
          "output_type": "stream",
          "name": "stdout",
          "text": [
            "X * Y tensor([[ 35.,  41.],\n",
            "        [109.,  85.]], device='cuda:0')\n"
          ]
        }
      ]
    },
    {
      "cell_type": "markdown",
      "source": [
        "# Question 7\n",
        "\n",
        "Find the maximum and minimum values of the output of 7."
      ],
      "metadata": {
        "id": "bM_ddJnUoO97"
      }
    },
    {
      "cell_type": "code",
      "source": [
        "max_value = torch.max(result)\n",
        "min_value = torch.min(result)\n",
        "\n",
        "print('Maximum', max_value)\n",
        "print('Minimum', min_value)"
      ],
      "metadata": {
        "colab": {
          "base_uri": "https://localhost:8080/"
        },
        "id": "94vz0FkwoXDv",
        "outputId": "ac7e300b-010a-4a13-b350-7c20f480d3cd"
      },
      "execution_count": 20,
      "outputs": [
        {
          "output_type": "stream",
          "name": "stdout",
          "text": [
            "Maximum tensor(109., device='cuda:0')\n",
            "Minimum tensor(35., device='cuda:0')\n"
          ]
        }
      ]
    },
    {
      "cell_type": "markdown",
      "source": [
        "# Question 8\n",
        "\n",
        "Find the maximum and minimum index values of the output of 7."
      ],
      "metadata": {
        "id": "rBMJCAG7oXmc"
      }
    },
    {
      "cell_type": "code",
      "source": [
        "max_index = torch.argmax(result)\n",
        "min_index = torch.argmin(result)\n",
        "\n",
        "print('Maximum index', max_index)\n",
        "print('Minimum index', min_index)"
      ],
      "metadata": {
        "colab": {
          "base_uri": "https://localhost:8080/"
        },
        "id": "v-wGTGSooYvZ",
        "outputId": "0c36ea14-b40e-4e1e-85e1-d8a5ea1c8dd7"
      },
      "execution_count": 21,
      "outputs": [
        {
          "output_type": "stream",
          "name": "stdout",
          "text": [
            "Maximum index tensor(2, device='cuda:0')\n",
            "Minimum index tensor(0, device='cuda:0')\n"
          ]
        }
      ]
    },
    {
      "cell_type": "markdown",
      "source": [
        "# Question 9\n",
        "\n",
        "Make a random tensor with shape (1, 1, 1, 10) and then create a new tensor with all the 1 dimensions removed to be left with a tensor of shape (10). Set the seed to 7 when you create it and print out the first tensor and it's shape as well as the second tensor and it's shape."
      ],
      "metadata": {
        "id": "NFiCPLxjoZM8"
      }
    },
    {
      "cell_type": "code",
      "source": [
        "if (torch.cuda.is_available()) :\n",
        "  torch.cuda.manual_seed(7)\n",
        "  x = (torch.rand(1, 1, 1, 10).cuda() * 10).round(decimals=0)\n",
        "  print('X', x)\n",
        "  print('X shape', x.shape)\n",
        "  y = torch.squeeze(x)\n",
        "  print('Y', y)\n",
        "  print('Y shape', y.shape)\n",
        "else :\n",
        "  print('No GPU available')"
      ],
      "metadata": {
        "colab": {
          "base_uri": "https://localhost:8080/"
        },
        "id": "UCvj6C6foZ7p",
        "outputId": "50bec042-995d-4b96-8219-57432e5f4686"
      },
      "execution_count": 22,
      "outputs": [
        {
          "output_type": "stream",
          "name": "stdout",
          "text": [
            "X tensor([[[[ 8., 10.,  1.,  3.,  7.,  9.,  9.,  9.,  6.,  1.]]]],\n",
            "       device='cuda:0')\n",
            "X shape torch.Size([1, 1, 1, 10])\n",
            "Y tensor([ 8., 10.,  1.,  3.,  7.,  9.,  9.,  9.,  6.,  1.], device='cuda:0')\n",
            "Y shape torch.Size([10])\n"
          ]
        }
      ]
    },
    {
      "cell_type": "markdown",
      "source": [
        "## Question 10\n",
        "\n",
        "Given the Ax=b example we showed in the class with 4 equations in slide #14. Write a pytorch code defining the coefficient A matrix (with intercept) the vector of unknowns x, and the vector of outputs or targets b.  Then Solve the system to find the vector x by applying the normal equation at the bottom of slide# 17"
      ],
      "metadata": {
        "id": "wuqGlOTeIwTf"
      }
    },
    {
      "cell_type": "code",
      "source": [],
      "metadata": {
        "id": "PSodl1H4I15O"
      },
      "execution_count": 22,
      "outputs": []
    }
  ]
}